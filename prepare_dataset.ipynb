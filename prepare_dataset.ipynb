{
 "cells": [
  {
   "cell_type": "code",
   "execution_count": 8,
   "metadata": {
    "collapsed": true,
    "ExecuteTime": {
     "end_time": "2023-07-13T17:43:00.285719546Z",
     "start_time": "2023-07-13T17:42:50.494870491Z"
    }
   },
   "outputs": [
    {
     "ename": "error",
     "evalue": "OpenCV(4.8.0) /io/opencv/modules/imgcodecs/src/loadsave.cpp:787: error: (-215:Assertion failed) !_img.empty() in function 'imwrite'\n",
     "output_type": "error",
     "traceback": [
      "\u001B[0;31m---------------------------------------------------------------------------\u001B[0m",
      "\u001B[0;31merror\u001B[0m                                     Traceback (most recent call last)",
      "Cell \u001B[0;32mIn[8], line 24\u001B[0m\n\u001B[1;32m     22\u001B[0m success,image \u001B[38;5;241m=\u001B[39m vidcap\u001B[38;5;241m.\u001B[39mread()\n\u001B[1;32m     23\u001B[0m \u001B[38;5;28;01mif\u001B[39;00m  (et1 \u001B[38;5;241m>\u001B[39m count_frame \u001B[38;5;241m>\u001B[39m st1) \u001B[38;5;129;01mor\u001B[39;00m (et2 \u001B[38;5;241m>\u001B[39m count_frame \u001B[38;5;241m>\u001B[39m st2) \u001B[38;5;129;01mor\u001B[39;00m (et3 \u001B[38;5;241m>\u001B[39m count_frame \u001B[38;5;241m>\u001B[39m st3):\n\u001B[0;32m---> 24\u001B[0m   \u001B[43mcv2\u001B[49m\u001B[38;5;241;43m.\u001B[39;49m\u001B[43mimwrite\u001B[49m\u001B[43m(\u001B[49m\u001B[38;5;124;43m\"\u001B[39;49m\u001B[38;5;124;43mcabile/datasets/row/\u001B[39;49m\u001B[38;5;132;43;01m%04d\u001B[39;49;00m\u001B[38;5;124;43m.jpg\u001B[39;49m\u001B[38;5;124;43m\"\u001B[39;49m\u001B[43m \u001B[49m\u001B[38;5;241;43m%\u001B[39;49m\u001B[43m \u001B[49m\u001B[43mcount_image_dataset\u001B[49m\u001B[43m,\u001B[49m\u001B[43m \u001B[49m\u001B[43mimage\u001B[49m\u001B[43m)\u001B[49m\n\u001B[1;32m     25\u001B[0m   count_image_dataset\u001B[38;5;241m+\u001B[39m\u001B[38;5;241m=\u001B[39m\u001B[38;5;241m1\u001B[39m\n\u001B[1;32m     26\u001B[0m count_frame \u001B[38;5;241m+\u001B[39m\u001B[38;5;241m=\u001B[39m \u001B[38;5;241m1\u001B[39m\n",
      "\u001B[0;31merror\u001B[0m: OpenCV(4.8.0) /io/opencv/modules/imgcodecs/src/loadsave.cpp:787: error: (-215:Assertion failed) !_img.empty() in function 'imwrite'\n"
     ]
    }
   ],
   "source": [
    "import cv2\n",
    "vidcap = cv2.VideoCapture('AVI/1.avi')\n",
    "success,image = vidcap.read()\n",
    "count_frame = 0\n",
    "count_image_dataset = 0\n",
    "success = True\n",
    "\n",
    "# Участок в видео, где трос остановлен\n",
    "st1 = 60\n",
    "et1 = 70\n",
    "\n",
    "# Участок в видео, где трос движется\n",
    "st2 = 2 * 60 + 42\n",
    "et2 = 2 * 60 + 52\n",
    "\n",
    "# Участок в видео, где трос остановлен после движения\n",
    "st3 = 2 * 60 + 53\n",
    "et3 = 3 * 60 + 4\n",
    "\n",
    "while success:\n",
    "  vidcap.set(cv2.CAP_PROP_POS_MSEC,(count_frame*1000))\n",
    "  success,image = vidcap.read()\n",
    "  if  (et1 > count_frame > st1) or (et2 > count_frame > st2) or (et3 > count_frame > st3):\n",
    "    cv2.imwrite(\"cabile/datasets/row/%04d.jpg\" % count_image_dataset, image)\n",
    "    count_image_dataset+=1\n",
    "  count_frame += 1"
   ]
  },
  {
   "cell_type": "code",
   "execution_count": 3,
   "outputs": [
    {
     "data": {
      "text/plain": "2"
     },
     "execution_count": 3,
     "metadata": {},
     "output_type": "execute_result"
    }
   ],
   "source": [
    "2"
   ],
   "metadata": {
    "collapsed": false,
    "ExecuteTime": {
     "end_time": "2023-07-13T17:13:02.880548225Z",
     "start_time": "2023-07-13T17:13:02.863634427Z"
    }
   }
  }
 ],
 "metadata": {
  "kernelspec": {
   "display_name": "Python 3",
   "language": "python",
   "name": "python3"
  },
  "language_info": {
   "codemirror_mode": {
    "name": "ipython",
    "version": 2
   },
   "file_extension": ".py",
   "mimetype": "text/x-python",
   "name": "python",
   "nbconvert_exporter": "python",
   "pygments_lexer": "ipython2",
   "version": "2.7.6"
  }
 },
 "nbformat": 4,
 "nbformat_minor": 0
}
